{
 "cells": [
  {
   "cell_type": "code",
   "id": "initial_id",
   "metadata": {
    "collapsed": true,
    "ExecuteTime": {
     "end_time": "2024-12-12T15:31:37.493739Z",
     "start_time": "2024-12-12T15:31:37.490010Z"
    }
   },
   "source": [
    "from sklearn.neural_network import MLPClassifier\n",
    "from sklearn.metrics import accuracy_score\n",
    "import numpy as np"
   ],
   "outputs": [],
   "execution_count": 6
  },
  {
   "metadata": {
    "ExecuteTime": {
     "end_time": "2024-12-12T15:31:37.833741Z",
     "start_time": "2024-12-12T15:31:37.497738Z"
    }
   },
   "cell_type": "code",
   "source": [
    "mnist=np.load('mnist/mnist.npz')\n",
    "x, y = mnist['x_train']/255.0, mnist['y_train']\n",
    "x=x.reshape(-1, 28*28)\n",
    "x_test, y_test = mnist['x_test']/255.0, mnist['y_test']\n",
    "x_test=x_test.reshape(-1, 28*28)"
   ],
   "id": "6264d74060b6fd47",
   "outputs": [],
   "execution_count": 7
  },
  {
   "metadata": {
    "ExecuteTime": {
     "end_time": "2024-12-12T15:31:37.843515Z",
     "start_time": "2024-12-12T15:31:37.840977Z"
    }
   },
   "cell_type": "code",
   "source": [
    "# hidden_layer_sizes:神经元的数量\n",
    "#max_iter:最大迭代次数\n",
    "#alpha:L2正则化参数\n",
    "#solver:优化算法 (sgd代表随机梯度下降\n",
    "#verbose:是否打印信息\n",
    "#random_state:随机种子\n",
    "#tol:迭代终止条件\n",
    "#learning_rate_init:学习率\n",
    "mlp = MLPClassifier(hidden_layer_sizes=(500,), max_iter=1000, alpha=1e-4,\n",
    "                   solver='sgd', verbose=10, random_state=1, tol=1e-4,\n",
    "                    learning_rate_init=0.0001)"
   ],
   "id": "baeecedca9737426",
   "outputs": [],
   "execution_count": 8
  },
  {
   "metadata": {
    "jupyter": {
     "is_executing": true
    },
    "ExecuteTime": {
     "start_time": "2024-12-12T15:31:37.852592Z"
    }
   },
   "cell_type": "code",
   "source": "mlp.fit(x, y)",
   "id": "15849cabe763def",
   "outputs": [
    {
     "name": "stdout",
     "output_type": "stream",
     "text": [
      "Iteration 1, loss = 2.18812480\n",
      "Iteration 2, loss = 1.88521293\n"
     ]
    }
   ],
   "execution_count": null
  },
  {
   "metadata": {
    "ExecuteTime": {
     "end_time": "2024-12-12T15:30:44.247300Z",
     "start_time": "2024-12-12T15:30:44.147162Z"
    }
   },
   "cell_type": "code",
   "source": [
    "y_pred = mlp.predict(x_test)\n",
    "print(y_pred.shape)\n",
    "print(\"Accuracy:\", accuracy_score(y_test, y_pred))"
   ],
   "id": "e6ebaa53a61b7301",
   "outputs": [
    {
     "name": "stdout",
     "output_type": "stream",
     "text": [
      "(10000,)\n",
      "Accuracy: 0.9807\n"
     ]
    }
   ],
   "execution_count": 5
  }
 ],
 "metadata": {
  "kernelspec": {
   "display_name": "Python 3",
   "language": "python",
   "name": "python3"
  },
  "language_info": {
   "codemirror_mode": {
    "name": "ipython",
    "version": 2
   },
   "file_extension": ".py",
   "mimetype": "text/x-python",
   "name": "python",
   "nbconvert_exporter": "python",
   "pygments_lexer": "ipython2",
   "version": "2.7.6"
  }
 },
 "nbformat": 4,
 "nbformat_minor": 5
}
