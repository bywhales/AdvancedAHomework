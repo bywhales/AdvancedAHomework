{
 "cells": [
  {
   "cell_type": "code",
   "id": "initial_id",
   "metadata": {
    "collapsed": true,
    "ExecuteTime": {
     "end_time": "2024-12-20T05:35:39.935304Z",
     "start_time": "2024-12-20T05:35:39.932212Z"
    }
   },
   "source": [
    "import numpy as np\n",
    "# import cupy as np"
   ],
   "outputs": [],
   "execution_count": 17
  },
  {
   "metadata": {
    "ExecuteTime": {
     "end_time": "2024-12-20T05:35:40.106436Z",
     "start_time": "2024-12-20T05:35:39.938293Z"
    }
   },
   "cell_type": "code",
   "source": [
    "# 加载数据集\n",
    "mnist=np.load('mnist/mnist.npz')\n",
    "train_images, train_labels = mnist['x_train'], mnist['y_train']\n",
    "test_images, test_labels = mnist['x_test'], mnist['y_test']\n"
   ],
   "id": "3240ff354b7cc494",
   "outputs": [],
   "execution_count": 18
  },
  {
   "metadata": {
    "ExecuteTime": {
     "end_time": "2024-12-20T05:35:40.212623Z",
     "start_time": "2024-12-20T05:35:40.114435Z"
    }
   },
   "cell_type": "code",
   "source": [
    "train_labels = train_labels.astype(int)\n",
    "test_labels = test_labels.astype(int)\n",
    "train_labels = np.eye(10)[train_labels]\n",
    "test_labels = np.eye(10)[test_labels]\n",
    "print(train_images.shape, train_labels.shape)\n",
    "# 将图像数据转换为浮点数，并归一化到0-1之间\n",
    "train_images = train_images.astype(np.float32) / 255.0\n",
    "test_images = test_images.astype(np.float32) / 255.0"
   ],
   "id": "67d9dfb15685be0",
   "outputs": [
    {
     "name": "stdout",
     "output_type": "stream",
     "text": [
      "(60000, 28, 28) (60000, 10)\n"
     ]
    }
   ],
   "execution_count": 19
  },
  {
   "metadata": {
    "ExecuteTime": {
     "end_time": "2024-12-20T05:35:40.222614Z",
     "start_time": "2024-12-20T05:35:40.220055Z"
    }
   },
   "cell_type": "code",
   "source": [
    "# 将图像数据展平为一维数组\n",
    "train_images = train_images.reshape(-1, 28*28)\n",
    "test_images = test_images.reshape(-1, 28*28)"
   ],
   "id": "3c85797e84e9ea82",
   "outputs": [],
   "execution_count": 20
  },
  {
   "metadata": {
    "ExecuteTime": {
     "end_time": "2024-12-20T05:35:40.234925Z",
     "start_time": "2024-12-20T05:35:40.229330Z"
    }
   },
   "cell_type": "code",
   "source": [
    "class NeuralNetwork:\n",
    "    def __init__(self, input_size, hidden_size, output_size,learning_rate = 0.01,tol=1e-4):\n",
    "        self.weights1 = np.random.randn(input_size, hidden_size) * np.sqrt(1 / input_size)\n",
    "        self.weights2 = np.random.randn(hidden_size, output_size) * np.sqrt(1 / hidden_size)\n",
    "        self.bias1 = np.zeros((1, hidden_size))\n",
    "        self.bias2 = np.zeros((1, output_size))\n",
    "        self.learning_rate=learning_rate\n",
    "\n",
    "    def sigmoid(self, x):\n",
    "        return 1 / (1 + np.exp(-x))\n",
    "\n",
    "    def sigmoid_derivative(self, x):\n",
    "        return x * (1 - x)\n",
    "\n",
    "    def forward(self, x):\n",
    "        self.output1 = self.sigmoid(np.dot(x, self.weights1) + self.bias1)\n",
    "        self.output2 = self.sigmoid(np.dot(self.output1, self.weights2) + self.bias2)\n",
    "        return self.output2\n",
    "    \n",
    "    def backward(self, x, true, output):\n",
    "        error = output-true\n",
    "        output2_derivative = error * self.sigmoid_derivative(output)\n",
    "        error1 = output2_derivative.dot(self.weights2.T)\n",
    "        output1_derivative = error1 * self.sigmoid_derivative(self.output1)    \n",
    "        self.weights2 -= self.learning_rate*self.output1.T.dot(output2_derivative)\n",
    "        self.weights1 -= self.learning_rate*x.reshape(784, 1).dot(output1_derivative)\n",
    "        self.bias2 -=self.learning_rate* np.sum(output2_derivative, axis=0, keepdims=True)\n",
    "        self.bias1 -=self.learning_rate* np.sum(output1_derivative, axis=0, keepdims=True)\n",
    "    \n",
    "    def cross_entropy_loss(self,output, true):\n",
    "        delta = 1e-7\n",
    "        output = np.clip(output, delta, 1 - delta)\n",
    "        return -np.sum(true * np.log(output), axis=1)"
   ],
   "id": "71ac489d32abd4bf",
   "outputs": [],
   "execution_count": 21
  },
  {
   "metadata": {
    "ExecuteTime": {
     "end_time": "2024-12-20T05:35:40.243759Z",
     "start_time": "2024-12-20T05:35:40.241082Z"
    }
   },
   "cell_type": "code",
   "source": [
    "def evaluate_nn(nn, test_images, test_labels):\n",
    "    correct = 0\n",
    "    for image, label in zip(test_images, test_labels):\n",
    "        output = nn.forward(image)\n",
    "        predicted = np.argmax(output)\n",
    "        actual = np.argmax(label)\n",
    "        if predicted == actual:\n",
    "            correct += 1\n",
    "    accuracy = correct / len(test_labels)\n",
    "    print(f\"Accuracy: {accuracy * 100}%\")"
   ],
   "id": "e23926a240b4f14a",
   "outputs": [],
   "execution_count": 22
  },
  {
   "metadata": {
    "ExecuteTime": {
     "end_time": "2024-12-20T05:35:40.269282Z",
     "start_time": "2024-12-20T05:35:40.255778Z"
    }
   },
   "cell_type": "code",
   "source": [
    "def train_nn(nn, train_images, train_labels, epochs, tol=1e-4):\n",
    "    for epoch in range(epochs):\n",
    "        loss=0\n",
    "        for image, label in zip(train_images, train_labels):\n",
    "            output = nn.forward(image)\n",
    "            nn.backward(image, label, output)\n",
    "            loss+=nn.cross_entropy_loss(output, label)\n",
    "        print(\"loss:\",loss/len(train_images))\n",
    "        if loss<tol:\n",
    "            break\n",
    "        print(f\"Epoch {epoch} complete\")"
   ],
   "id": "6faaed7db1ef69fc",
   "outputs": [],
   "execution_count": 23
  },
  {
   "metadata": {
    "ExecuteTime": {
     "end_time": "2024-12-20T06:08:00.276515Z",
     "start_time": "2024-12-20T05:35:40.285181Z"
    }
   },
   "cell_type": "code",
   "source": [
    "def plot_loss(loss_history):\n",
    "    \"\"\"\n",
    "    绘制损失下降图像的函数。\n",
    "    \n",
    "    参数:\n",
    "    loss_history (list): 每个epoch的损失值列表。\n",
    "    \"\"\"\n",
    "    epochs = range(1, len(loss_history) + 1)\n",
    "    \n",
    "    plt.figure(figsize=(10, 6))\n",
    "    plt.plot(epochs, loss_history, marker='o', linestyle='-', color='b')\n",
    "    plt.title('Loss下降图像')\n",
    "    plt.xlabel('Epoch')\n",
    "    plt.ylabel('Loss')\n",
    "    plt.grid(True)\n",
    "    plt.show()\n",
    "\n",
    "# 将训练过程中的损失值存储在一个列表中\n",
    "loss_history = []\n",
    "\n",
    "def train_nn_with_loss_tracking(nn, train_images, train_labels, epochs, tol=1e-4):\n",
    "    for epoch in range(epochs):\n",
    "        loss = 0\n",
    "        for image, label in zip(train_images, train_labels):\n",
    "            output = nn.forward(image)\n",
    "            nn.backward(image, label, output)\n",
    "            loss += nn.cross_entropy_loss(output, label)\n",
    "        average_loss = loss / len(train_images)\n",
    "        loss_history.append(average_loss)\n",
    "        print(f\"Epoch {epoch} complete, loss: {average_loss}\")\n",
    "        if average_loss < tol:\n",
    "            break\n",
    "\n",
    "# 使用新的训练函数来训练神经网络并记录损失值\n",
    "input_size = 28 * 28\n",
    "hidden_size = 256\n",
    "output_size = 10\n",
    "learning_rate = 0.1\n",
    "nn = NeuralNetwork(input_size, hidden_size, output_size, learning_rate)\n",
    "\n",
    "train_nn_with_loss_tracking(nn, train_images, train_labels, epochs=30, tol=1e-2)\n",
    "\n",
    "# 绘制损失下降图像\n",
    "plot_loss(loss_history)\n"
   ],
   "id": "c4232dbe96310ed6",
   "outputs": [
    {
     "name": "stdout",
     "output_type": "stream",
     "text": [
      "Epoch 0 complete, loss: [0.46272868]\n",
      "Epoch 1 complete, loss: [0.2519031]\n",
      "Epoch 2 complete, loss: [0.18439669]\n",
      "Epoch 3 complete, loss: [0.14880977]\n",
      "Epoch 4 complete, loss: [0.12644574]\n",
      "Epoch 5 complete, loss: [0.11057056]\n",
      "Epoch 6 complete, loss: [0.09829798]\n",
      "Epoch 7 complete, loss: [0.0886687]\n",
      "Epoch 8 complete, loss: [0.08072197]\n",
      "Epoch 9 complete, loss: [0.074108]\n",
      "Epoch 10 complete, loss: [0.06855509]\n",
      "Epoch 11 complete, loss: [0.06378623]\n",
      "Epoch 12 complete, loss: [0.05956849]\n",
      "Epoch 13 complete, loss: [0.05585464]\n",
      "Epoch 14 complete, loss: [0.05261969]\n",
      "Epoch 15 complete, loss: [0.04982324]\n",
      "Epoch 16 complete, loss: [0.04739015]\n",
      "Epoch 17 complete, loss: [0.04529279]\n",
      "Epoch 18 complete, loss: [0.04346508]\n",
      "Epoch 19 complete, loss: [0.04183434]\n",
      "Epoch 20 complete, loss: [0.04033542]\n",
      "Epoch 21 complete, loss: [0.03900523]\n",
      "Epoch 22 complete, loss: [0.03784293]\n",
      "Epoch 23 complete, loss: [0.0366972]\n",
      "Epoch 24 complete, loss: [0.03559211]\n",
      "Epoch 25 complete, loss: [0.03455396]\n",
      "Epoch 26 complete, loss: [0.03361955]\n",
      "Epoch 27 complete, loss: [0.03273647]\n",
      "Epoch 28 complete, loss: [0.03188588]\n",
      "Epoch 29 complete, loss: [0.03111664]\n"
     ]
    },
    {
     "name": "stderr",
     "output_type": "stream",
     "text": [
      "C:\\Users\\Administrator\\PycharmProjects\\MNIST\\.venv\\Lib\\site-packages\\IPython\\core\\pylabtools.py:170: UserWarning: Glyph 19979 (\\N{CJK UNIFIED IDEOGRAPH-4E0B}) missing from font(s) DejaVu Sans.\n",
      "  fig.canvas.print_figure(bytes_io, **kw)\n",
      "C:\\Users\\Administrator\\PycharmProjects\\MNIST\\.venv\\Lib\\site-packages\\IPython\\core\\pylabtools.py:170: UserWarning: Glyph 38477 (\\N{CJK UNIFIED IDEOGRAPH-964D}) missing from font(s) DejaVu Sans.\n",
      "  fig.canvas.print_figure(bytes_io, **kw)\n",
      "C:\\Users\\Administrator\\PycharmProjects\\MNIST\\.venv\\Lib\\site-packages\\IPython\\core\\pylabtools.py:170: UserWarning: Glyph 22270 (\\N{CJK UNIFIED IDEOGRAPH-56FE}) missing from font(s) DejaVu Sans.\n",
      "  fig.canvas.print_figure(bytes_io, **kw)\n",
      "C:\\Users\\Administrator\\PycharmProjects\\MNIST\\.venv\\Lib\\site-packages\\IPython\\core\\pylabtools.py:170: UserWarning: Glyph 20687 (\\N{CJK UNIFIED IDEOGRAPH-50CF}) missing from font(s) DejaVu Sans.\n",
      "  fig.canvas.print_figure(bytes_io, **kw)\n"
     ]
    },
    {
     "data": {
      "text/plain": [
       "<Figure size 1000x600 with 1 Axes>"
      ],
      "image/png": "[encoded data removed]"
     },
     "metadata": {},
     "output_type": "display_data"
    }
   ],
   "execution_count": 24
  },
  {
   "metadata": {
    "ExecuteTime": {
     "end_time": "2024-12-20T06:08:00.845050Z",
     "start_time": "2024-12-20T06:08:00.403273Z"
    }
   },
   "cell_type": "code",
   "source": [
    "# 评估神经网络\n",
    "print(test_images.shape)\n",
    "evaluate_nn(nn, test_images, test_labels)\n",
    "\n"
   ],
   "id": "658f25dd412b574c",
   "outputs": [
    {
     "name": "stdout",
     "output_type": "stream",
     "text": [
      "(10000, 784)\n",
      "Accuracy: 98.24000000000001%\n"
     ]
    }
   ],
   "execution_count": 25
  },
  {
   "metadata": {
    "ExecuteTime": {
     "end_time": "2024-12-20T06:08:00.856780Z",
     "start_time": "2024-12-20T06:08:00.854320Z"
    }
   },
   "cell_type": "code",
   "source": "",
   "id": "32cf80abc5ece7ae",
   "outputs": [],
   "execution_count": null
  }
 ],
 "metadata": {
  "kernelspec": {
   "display_name": "Python 3",
   "language": "python",
   "name": "python3"
  },
  "language_info": {
   "codemirror_mode": {
    "name": "ipython",
    "version": 2
   },
   "file_extension": ".py",
   "mimetype": "text/x-python",
   "name": "python",
   "nbconvert_exporter": "python",
   "pygments_lexer": "ipython2",
   "version": "2.7.6"
  }
 },
 "nbformat": 4,
 "nbformat_minor": 5
}
