{
 "cells": [
  {
   "cell_type": "code",
   "id": "initial_id",
   "metadata": {
    "collapsed": true,
    "ExecuteTime": {
     "end_time": "2024-12-09T12:21:50.775581Z",
     "start_time": "2024-12-09T12:21:50.772342Z"
    }
   },
   "source": "import numpy as np\n",
   "outputs": [],
   "execution_count": 49
  },
  {
   "metadata": {
    "ExecuteTime": {
     "end_time": "2024-12-09T12:21:50.949596Z",
     "start_time": "2024-12-09T12:21:50.777577Z"
    }
   },
   "cell_type": "code",
   "source": [
    "# 加载数据集\n",
    "mnist=np.load('mnist/mnist.npz')\n",
    "train_images, train_labels = mnist['x_train'], mnist['y_train']\n",
    "test_images, test_labels = mnist['x_test'], mnist['y_test']\n"
   ],
   "id": "3240ff354b7cc494",
   "outputs": [],
   "execution_count": 50
  },
  {
   "metadata": {
    "ExecuteTime": {
     "end_time": "2024-12-09T12:21:51.076016Z",
     "start_time": "2024-12-09T12:21:50.956871Z"
    }
   },
   "cell_type": "code",
   "source": [
    "train_labels = train_labels.astype(int)\n",
    "test_labels = test_labels.astype(int)\n",
    "train_labels = np.eye(10)[train_labels]\n",
    "test_labels = np.eye(10)[test_labels]\n",
    "print(train_images.shape, train_labels.shape)\n",
    "# 将图像数据转换为浮点数，并归一化到0-1之间\n",
    "train_images = train_images.astype(np.float32) / 255.0\n",
    "test_images = test_images.astype(np.float32) / 255.0"
   ],
   "id": "67d9dfb15685be0",
   "outputs": [
    {
     "name": "stdout",
     "output_type": "stream",
     "text": [
      "(60000, 28, 28) (60000, 10)\n"
     ]
    }
   ],
   "execution_count": 51
  },
  {
   "metadata": {
    "ExecuteTime": {
     "end_time": "2024-12-09T12:21:51.090994Z",
     "start_time": "2024-12-09T12:21:51.088506Z"
    }
   },
   "cell_type": "code",
   "source": [
    "# 将图像数据展平为一维数组\n",
    "train_images = train_images.reshape(-1, 28*28)\n",
    "test_images = test_images.reshape(-1, 28*28)"
   ],
   "id": "3c85797e84e9ea82",
   "outputs": [],
   "execution_count": 52
  },
  {
   "metadata": {
    "ExecuteTime": {
     "end_time": "2024-12-09T12:21:51.102663Z",
     "start_time": "2024-12-09T12:21:51.097664Z"
    }
   },
   "cell_type": "code",
   "source": [
    "class NeuralNetwork:\n",
    "    def __init__(self, input_size, hidden_size, output_size,learning_rate = 0.01):\n",
    "        self.weights1 = np.random.randn(input_size, hidden_size) * np.sqrt(1 / input_size)\n",
    "        self.weights2 = np.random.randn(hidden_size, output_size) * np.sqrt(1 / hidden_size)\n",
    "        self.bias1 = np.zeros((1, hidden_size))\n",
    "        self.bias2 = np.zeros((1, output_size))\n",
    "        self.learning_rate=learning_rate\n",
    "\n",
    "    def sigmoid(self, x):\n",
    "        return 1 / (1 + np.exp(-x))\n",
    "\n",
    "    def sigmoid_derivative(self, x):\n",
    "        return x * (1 - x)\n",
    "\n",
    "    def forward(self, x):\n",
    "        self.output1 = self.sigmoid(np.dot(x, self.weights1) + self.bias1)\n",
    "        self.output2 = self.sigmoid(np.dot(self.output1, self.weights2) + self.bias2)\n",
    "        return self.output2\n",
    "    \n",
    "    def backward(self, x, true, output):\n",
    "        # error =self.cross_entropy_loss(output,true)\n",
    "        error = true-output\n",
    "        # print(f\"error:{error}\")\n",
    "        output2_derivative = error * self.sigmoid_derivative(output)\n",
    "        error1 = output2_derivative.dot(self.weights2.T)\n",
    "        output1_derivative = error1 * self.sigmoid_derivative(self.output1)    \n",
    "        self.weights2 += self.learning_rate*self.output1.T.dot(output2_derivative)\n",
    "        self.weights1 += self.learning_rate*x.reshape(784, 1).dot(output1_derivative)\n",
    "        self.bias2 +=self.learning_rate* np.sum(output2_derivative, axis=0, keepdims=True)\n",
    "        self.bias1 +=self.learning_rate* np.sum(output1_derivative, axis=0, keepdims=True)\n",
    "    \n",
    "    def cross_entropy_loss(self,output, true):\n",
    "        delta = 1e-7\n",
    "        return -np.sum(true * np.log(output), axis=1)"
   ],
   "id": "71ac489d32abd4bf",
   "outputs": [],
   "execution_count": 53
  },
  {
   "metadata": {
    "ExecuteTime": {
     "end_time": "2024-12-09T12:21:51.111784Z",
     "start_time": "2024-12-09T12:21:51.108424Z"
    }
   },
   "cell_type": "code",
   "source": [
    "def evaluate_nn(nn, test_images, test_labels):\n",
    "    correct = 0\n",
    "    for image, label in zip(test_images, test_labels):\n",
    "        output = nn.forward(image)\n",
    "        predicted = np.argmax(output)\n",
    "        actual = np.argmax(label)\n",
    "        if predicted == actual:\n",
    "            correct += 1\n",
    "    accuracy = correct / len(test_labels)\n",
    "    print(f\"Accuracy: {accuracy * 100}%\")"
   ],
   "id": "e23926a240b4f14a",
   "outputs": [],
   "execution_count": 54
  },
  {
   "metadata": {
    "ExecuteTime": {
     "end_time": "2024-12-09T12:21:51.121137Z",
     "start_time": "2024-12-09T12:21:51.118174Z"
    }
   },
   "cell_type": "code",
   "source": [
    "def train_nn(nn, train_images, train_labels, epochs):\n",
    "    for epoch in range(epochs):\n",
    "        for image, label in zip(train_images, train_labels):\n",
    "            output = nn.forward(image)\n",
    "            nn.backward(image, label, output)\n",
    "        print(f\"Epoch {epoch} complete\")\n",
    "        evaluate_nn(nn, test_images[epoch*10:(epoch+1)*10], test_labels[epoch*10:(epoch+1)*10])"
   ],
   "id": "6faaed7db1ef69fc",
   "outputs": [],
   "execution_count": 55
  },
  {
   "metadata": {
    "ExecuteTime": {
     "end_time": "2024-12-09T12:21:51.150452Z",
     "start_time": "2024-12-09T12:21:51.127784Z"
    }
   },
   "cell_type": "code",
   "source": [
    "# 创建神经网络实例\n",
    "input_size = 28 * 28\n",
    "hidden_size = 64\n",
    "output_size = 10\n",
    "learning_rate=0.01\n",
    "nn = NeuralNetwork(input_size, hidden_size, output_size, learning_rate)\n",
    "\n",
    "# 训练神经网络\n",
    "train_nn(nn, train_images, train_labels, epochs=100)\n",
    "\n"
   ],
   "id": "c4232dbe96310ed6",
   "outputs": [
    {
     "ename": "TypeError",
     "evalue": "ufunc 'bitwise_xor' not supported for the input types, and the inputs could not be safely coerced to any supported types according to the casting rule ''safe''",
     "output_type": "error",
     "traceback": [
      "\u001B[1;31m---------------------------------------------------------------------------\u001B[0m",
      "\u001B[1;31mTypeError\u001B[0m                                 Traceback (most recent call last)",
      "Cell \u001B[1;32mIn[56], line 9\u001B[0m\n\u001B[0;32m      6\u001B[0m nn \u001B[38;5;241m=\u001B[39m NeuralNetwork(input_size, hidden_size, output_size, learning_rate)\n\u001B[0;32m      8\u001B[0m \u001B[38;5;66;03m# 训练神经网络\u001B[39;00m\n\u001B[1;32m----> 9\u001B[0m \u001B[43mtrain_nn\u001B[49m\u001B[43m(\u001B[49m\u001B[43mnn\u001B[49m\u001B[43m,\u001B[49m\u001B[43m \u001B[49m\u001B[43mtrain_images\u001B[49m\u001B[43m,\u001B[49m\u001B[43m \u001B[49m\u001B[43mtrain_labels\u001B[49m\u001B[43m,\u001B[49m\u001B[43m \u001B[49m\u001B[43mepochs\u001B[49m\u001B[38;5;241;43m=\u001B[39;49m\u001B[38;5;241;43m100\u001B[39;49m\u001B[43m)\u001B[49m\n",
      "Cell \u001B[1;32mIn[55], line 5\u001B[0m, in \u001B[0;36mtrain_nn\u001B[1;34m(nn, train_images, train_labels, epochs)\u001B[0m\n\u001B[0;32m      3\u001B[0m \u001B[38;5;28;01mfor\u001B[39;00m image, label \u001B[38;5;129;01min\u001B[39;00m \u001B[38;5;28mzip\u001B[39m(train_images, train_labels):\n\u001B[0;32m      4\u001B[0m     output \u001B[38;5;241m=\u001B[39m nn\u001B[38;5;241m.\u001B[39mforward(image)\n\u001B[1;32m----> 5\u001B[0m     \u001B[43mnn\u001B[49m\u001B[38;5;241;43m.\u001B[39;49m\u001B[43mbackward\u001B[49m\u001B[43m(\u001B[49m\u001B[43mimage\u001B[49m\u001B[43m,\u001B[49m\u001B[43m \u001B[49m\u001B[43mlabel\u001B[49m\u001B[43m,\u001B[49m\u001B[43m \u001B[49m\u001B[43moutput\u001B[49m\u001B[43m)\u001B[49m\n\u001B[0;32m      6\u001B[0m \u001B[38;5;28mprint\u001B[39m(\u001B[38;5;124mf\u001B[39m\u001B[38;5;124m\"\u001B[39m\u001B[38;5;124mEpoch \u001B[39m\u001B[38;5;132;01m{\u001B[39;00mepoch\u001B[38;5;132;01m}\u001B[39;00m\u001B[38;5;124m complete\u001B[39m\u001B[38;5;124m\"\u001B[39m)\n\u001B[0;32m      7\u001B[0m evaluate_nn(nn, test_images[epoch\u001B[38;5;241m*\u001B[39m\u001B[38;5;241m10\u001B[39m:(epoch\u001B[38;5;241m+\u001B[39m\u001B[38;5;241m1\u001B[39m)\u001B[38;5;241m*\u001B[39m\u001B[38;5;241m10\u001B[39m], test_labels[epoch\u001B[38;5;241m*\u001B[39m\u001B[38;5;241m10\u001B[39m:(epoch\u001B[38;5;241m+\u001B[39m\u001B[38;5;241m1\u001B[39m)\u001B[38;5;241m*\u001B[39m\u001B[38;5;241m10\u001B[39m])\n",
      "Cell \u001B[1;32mIn[53], line 22\u001B[0m, in \u001B[0;36mNeuralNetwork.backward\u001B[1;34m(self, x, true, output)\u001B[0m\n\u001B[0;32m     20\u001B[0m \u001B[38;5;28;01mdef\u001B[39;00m \u001B[38;5;21mbackward\u001B[39m(\u001B[38;5;28mself\u001B[39m, x, true, output):\n\u001B[0;32m     21\u001B[0m     \u001B[38;5;66;03m# error =self.cross_entropy_loss(output,true)\u001B[39;00m\n\u001B[1;32m---> 22\u001B[0m     error \u001B[38;5;241m=\u001B[39m \u001B[43m(\u001B[49m\u001B[43mtrue\u001B[49m\u001B[38;5;241;43m-\u001B[39;49m\u001B[43moutput\u001B[49m\u001B[43m)\u001B[49m\u001B[38;5;241;43m^\u001B[39;49m\u001B[38;5;241;43m2\u001B[39;49m\n\u001B[0;32m     23\u001B[0m     \u001B[38;5;66;03m# print(f\"error:{error}\")\u001B[39;00m\n\u001B[0;32m     24\u001B[0m     output2_derivative \u001B[38;5;241m=\u001B[39m error \u001B[38;5;241m*\u001B[39m \u001B[38;5;28mself\u001B[39m\u001B[38;5;241m.\u001B[39msigmoid_derivative(output)\n",
      "\u001B[1;31mTypeError\u001B[0m: ufunc 'bitwise_xor' not supported for the input types, and the inputs could not be safely coerced to any supported types according to the casting rule ''safe''"
     ]
    }
   ],
   "execution_count": 56
  },
  {
   "metadata": {
    "ExecuteTime": {
     "end_time": "2024-12-09T12:21:51.155448Z",
     "start_time": "2024-12-09T11:45:45.614388Z"
    }
   },
   "cell_type": "code",
   "source": [
    "# 评估神经网络\n",
    "evaluate_nn(nn, test_images, test_labels)\n",
    "\n"
   ],
   "id": "658f25dd412b574c",
   "outputs": [
    {
     "name": "stdout",
     "output_type": "stream",
     "text": [
      "Accuracy: 97.52%\n"
     ]
    }
   ],
   "execution_count": 319
  },
  {
   "metadata": {
    "ExecuteTime": {
     "end_time": "2024-12-09T12:21:51.155448Z",
     "start_time": "2024-12-09T11:00:50.915673Z"
    }
   },
   "cell_type": "code",
   "source": [
    "import json\n",
    "# 保存实例到文件\n",
    "# with open('nn.json', 'w') as f:\n",
    "#     f.write(nn.to_json())\n",
    "\n",
    "# 从文件加载实例\n",
    "# with open('nn.json', 'r') as f:\n",
    "#     data = json.load(f)\n",
    "#     loaded_instance = NeuralNetwork(**data)\n",
    "#     print(loaded_instance)"
   ],
   "id": "32cf80abc5ece7ae",
   "outputs": [],
   "execution_count": 316
  }
 ],
 "metadata": {
  "kernelspec": {
   "display_name": "Python 3",
   "language": "python",
   "name": "python3"
  },
  "language_info": {
   "codemirror_mode": {
    "name": "ipython",
    "version": 2
   },
   "file_extension": ".py",
   "mimetype": "text/x-python",
   "name": "python",
   "nbconvert_exporter": "python",
   "pygments_lexer": "ipython2",
   "version": "2.7.6"
  }
 },
 "nbformat": 4,
 "nbformat_minor": 5
}
