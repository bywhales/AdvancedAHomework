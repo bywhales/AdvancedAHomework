{
 "cells": [
  {
   "cell_type": "code",
   "id": "initial_id",
   "metadata": {
    "collapsed": true,
    "ExecuteTime": {
     "end_time": "2024-12-15T16:26:21.895549Z",
     "start_time": "2024-12-15T16:26:21.891739Z"
    }
   },
   "source": [
    "import numpy as np\n",
    "# import cupy as np"
   ],
   "outputs": [],
   "execution_count": 54
  },
  {
   "metadata": {
    "ExecuteTime": {
     "end_time": "2024-12-15T16:26:22.080329Z",
     "start_time": "2024-12-15T16:26:21.904545Z"
    }
   },
   "cell_type": "code",
   "source": [
    "# 加载数据集\n",
    "mnist=np.load('mnist/mnist.npz')\n",
    "train_images, train_labels = mnist['x_train'], mnist['y_train']\n",
    "test_images, test_labels = mnist['x_test'], mnist['y_test']\n"
   ],
   "id": "3240ff354b7cc494",
   "outputs": [],
   "execution_count": 55
  },
  {
   "metadata": {
    "ExecuteTime": {
     "end_time": "2024-12-15T16:26:22.198405Z",
     "start_time": "2024-12-15T16:26:22.088355Z"
    }
   },
   "cell_type": "code",
   "source": [
    "train_labels = train_labels.astype(int)\n",
    "test_labels = test_labels.astype(int)\n",
    "train_labels = np.eye(10)[train_labels]\n",
    "test_labels = np.eye(10)[test_labels]\n",
    "print(train_images.shape, train_labels.shape)\n",
    "# 将图像数据转换为浮点数，并归一化到0-1之间\n",
    "train_images = train_images.astype(np.float32) / 255.0\n",
    "test_images = test_images.astype(np.float32) / 255.0"
   ],
   "id": "67d9dfb15685be0",
   "outputs": [
    {
     "name": "stdout",
     "output_type": "stream",
     "text": [
      "(60000, 28, 28) (60000, 10)\n"
     ]
    }
   ],
   "execution_count": 56
  },
  {
   "metadata": {
    "ExecuteTime": {
     "end_time": "2024-12-15T16:26:22.208083Z",
     "start_time": "2024-12-15T16:26:22.205836Z"
    }
   },
   "cell_type": "code",
   "source": [
    "# 将图像数据展平为一维数组\n",
    "train_images = train_images.reshape(-1, 28*28)\n",
    "test_images = test_images.reshape(-1, 28*28)"
   ],
   "id": "3c85797e84e9ea82",
   "outputs": [],
   "execution_count": 57
  },
  {
   "metadata": {
    "ExecuteTime": {
     "end_time": "2024-12-15T16:26:22.233105Z",
     "start_time": "2024-12-15T16:26:22.226682Z"
    }
   },
   "cell_type": "code",
   "source": [
    "class NeuralNetwork:\n",
    "    def __init__(self, input_size, hidden_size, output_size,learning_rate = 0.01,tol=1e-4):\n",
    "        self.weights1 = np.random.randn(input_size, hidden_size) * np.sqrt(1 / input_size)\n",
    "        self.weights2 = np.random.randn(hidden_size, output_size) * np.sqrt(1 / hidden_size)\n",
    "        self.bias1 = np.zeros((1, hidden_size))\n",
    "        self.bias2 = np.zeros((1, output_size))\n",
    "        self.learning_rate=learning_rate\n",
    "\n",
    "    def sigmoid(self, x):\n",
    "        return 1 / (1 + np.exp(-x))\n",
    "\n",
    "    def sigmoid_derivative(self, x):\n",
    "        return x * (1 - x)\n",
    "\n",
    "    def forward(self, x):\n",
    "        self.output1 = self.sigmoid(np.dot(x, self.weights1) + self.bias1)\n",
    "        self.output2 = self.sigmoid(np.dot(self.output1, self.weights2) + self.bias2)\n",
    "        return self.output2\n",
    "    \n",
    "    def backward(self, x, true, output):\n",
    "        error = output-true\n",
    "        output2_derivative = error * self.sigmoid_derivative(output)\n",
    "        error1 = output2_derivative.dot(self.weights2.T)\n",
    "        output1_derivative = error1 * self.sigmoid_derivative(self.output1)    \n",
    "        self.weights2 -= self.learning_rate*self.output1.T.dot(output2_derivative)\n",
    "        self.weights1 -= self.learning_rate*x.reshape(784, 1).dot(output1_derivative)\n",
    "        self.bias2 -=self.learning_rate* np.sum(output2_derivative, axis=0, keepdims=True)\n",
    "        self.bias1 -=self.learning_rate* np.sum(output1_derivative, axis=0, keepdims=True)\n",
    "    \n",
    "    def cross_entropy_loss(self,output, true):\n",
    "        delta = 1e-7\n",
    "        output = np.clip(output, delta, 1 - delta)\n",
    "        return -np.sum(true * np.log(output), axis=1)"
   ],
   "id": "71ac489d32abd4bf",
   "outputs": [],
   "execution_count": 58
  },
  {
   "metadata": {
    "ExecuteTime": {
     "end_time": "2024-12-15T16:26:22.255923Z",
     "start_time": "2024-12-15T16:26:22.252580Z"
    }
   },
   "cell_type": "code",
   "source": [
    "def evaluate_nn(nn, test_images, test_labels):\n",
    "    correct = 0\n",
    "    for image, label in zip(test_images, test_labels):\n",
    "        output = nn.forward(image)\n",
    "        predicted = np.argmax(output)\n",
    "        actual = np.argmax(label)\n",
    "        if predicted == actual:\n",
    "            correct += 1\n",
    "    accuracy = correct / len(test_labels)\n",
    "    print(f\"Accuracy: {accuracy * 100}%\")"
   ],
   "id": "e23926a240b4f14a",
   "outputs": [],
   "execution_count": 59
  },
  {
   "metadata": {
    "ExecuteTime": {
     "end_time": "2024-12-15T16:26:22.266868Z",
     "start_time": "2024-12-15T16:26:22.263932Z"
    }
   },
   "cell_type": "code",
   "source": [
    "def train_nn(nn, train_images, train_labels, epochs, tol=1e-4):\n",
    "    for epoch in range(epochs):\n",
    "        loss=0\n",
    "        for image, label in zip(train_images, train_labels):\n",
    "            output = nn.forward(image)\n",
    "            nn.backward(image, label, output)\n",
    "            loss+=nn.cross_entropy_loss(output, label)\n",
    "        print(\"loss:\",loss/len(train_images))\n",
    "        if loss<tol:\n",
    "            break\n",
    "        print(f\"Epoch {epoch} complete\")"
   ],
   "id": "6faaed7db1ef69fc",
   "outputs": [],
   "execution_count": 60
  },
  {
   "metadata": {
    "ExecuteTime": {
     "end_time": "2024-12-15T16:56:57.508768Z",
     "start_time": "2024-12-15T16:26:22.274809Z"
    }
   },
   "cell_type": "code",
   "source": [
    "# 创建神经网络实例\n",
    "input_size = 28 * 28\n",
    "hidden_size = 256\n",
    "output_size = 10\n",
    "learning_rate=0.1\n",
    "nn = NeuralNetwork(input_size, hidden_size, output_size, learning_rate)\n",
    "\n",
    "# 训练神经网络\n",
    "train_nn(nn, train_images, train_labels, epochs=30,tol=1e-2)\n",
    "\n"
   ],
   "id": "c4232dbe96310ed6",
   "outputs": [
    {
     "name": "stdout",
     "output_type": "stream",
     "text": [
      "loss: [0.46027282]\n",
      "Epoch 0 complete\n",
      "loss: [0.25038963]\n",
      "Epoch 1 complete\n",
      "loss: [0.1845351]\n",
      "Epoch 2 complete\n",
      "loss: [0.14919026]\n",
      "Epoch 3 complete\n",
      "loss: [0.12685825]\n",
      "Epoch 4 complete\n",
      "loss: [0.11094771]\n",
      "Epoch 5 complete\n",
      "loss: [0.09942635]\n",
      "Epoch 6 complete\n",
      "loss: [0.09055988]\n",
      "Epoch 7 complete\n",
      "loss: [0.08336536]\n",
      "Epoch 8 complete\n",
      "loss: [0.07725929]\n",
      "Epoch 9 complete\n",
      "loss: [0.0719885]\n",
      "Epoch 10 complete\n",
      "loss: [0.06741108]\n",
      "Epoch 11 complete\n",
      "loss: [0.06335306]\n",
      "Epoch 12 complete\n",
      "loss: [0.05974239]\n",
      "Epoch 13 complete\n",
      "loss: [0.0565942]\n",
      "Epoch 14 complete\n",
      "loss: [0.05381657]\n",
      "Epoch 15 complete\n",
      "loss: [0.05141009]\n",
      "Epoch 16 complete\n",
      "loss: [0.04927341]\n",
      "Epoch 17 complete\n",
      "loss: [0.04730108]\n",
      "Epoch 18 complete\n",
      "loss: [0.04546663]\n",
      "Epoch 19 complete\n",
      "loss: [0.04381111]\n",
      "Epoch 20 complete\n",
      "loss: [0.04225068]\n",
      "Epoch 21 complete\n",
      "loss: [0.04088907]\n",
      "Epoch 22 complete\n",
      "loss: [0.0397568]\n",
      "Epoch 23 complete\n",
      "loss: [0.03867453]\n",
      "Epoch 24 complete\n",
      "loss: [0.03765547]\n",
      "Epoch 25 complete\n",
      "loss: [0.03673296]\n",
      "Epoch 26 complete\n",
      "loss: [0.03587346]\n",
      "Epoch 27 complete\n",
      "loss: [0.03509277]\n",
      "Epoch 28 complete\n",
      "loss: [0.03439018]\n",
      "Epoch 29 complete\n"
     ]
    }
   ],
   "execution_count": 61
  },
  {
   "metadata": {
    "ExecuteTime": {
     "end_time": "2024-12-15T16:56:57.941668Z",
     "start_time": "2024-12-15T16:56:57.519842Z"
    }
   },
   "cell_type": "code",
   "source": [
    "# 评估神经网络\n",
    "print(test_images.shape)\n",
    "evaluate_nn(nn, test_images, test_labels)\n",
    "\n"
   ],
   "id": "658f25dd412b574c",
   "outputs": [
    {
     "name": "stdout",
     "output_type": "stream",
     "text": [
      "(10000, 784)\n",
      "Accuracy: 98.18%\n"
     ]
    }
   ],
   "execution_count": 62
  },
  {
   "metadata": {
    "ExecuteTime": {
     "end_time": "2024-12-15T16:56:57.965558Z",
     "start_time": "2024-12-15T16:56:57.963468Z"
    }
   },
   "cell_type": "code",
   "source": "",
   "id": "32cf80abc5ece7ae",
   "outputs": [],
   "execution_count": null
  }
 ],
 "metadata": {
  "kernelspec": {
   "display_name": "Python 3",
   "language": "python",
   "name": "python3"
  },
  "language_info": {
   "codemirror_mode": {
    "name": "ipython",
    "version": 2
   },
   "file_extension": ".py",
   "mimetype": "text/x-python",
   "name": "python",
   "nbconvert_exporter": "python",
   "pygments_lexer": "ipython2",
   "version": "2.7.6"
  }
 },
 "nbformat": 4,
 "nbformat_minor": 5
}
