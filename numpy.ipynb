{
 "cells": [
  {
   "cell_type": "code",
   "id": "initial_id",
   "metadata": {
    "collapsed": true,
    "ExecuteTime": {
     "end_time": "2024-12-09T13:39:19.020065Z",
     "start_time": "2024-12-09T13:39:19.017447Z"
    }
   },
   "source": [
    "import numpy as np\n",
    "# import cupy as np"
   ],
   "outputs": [],
   "execution_count": 94
  },
  {
   "metadata": {
    "ExecuteTime": {
     "end_time": "2024-12-09T13:39:19.216054Z",
     "start_time": "2024-12-09T13:39:19.029051Z"
    }
   },
   "cell_type": "code",
   "source": [
    "# 加载数据集\n",
    "mnist=np.load('mnist/mnist.npz')\n",
    "train_images, train_labels = mnist['x_train'], mnist['y_train']\n",
    "test_images, test_labels = mnist['x_test'], mnist['y_test']\n"
   ],
   "id": "3240ff354b7cc494",
   "outputs": [],
   "execution_count": 95
  },
  {
   "metadata": {
    "ExecuteTime": {
     "end_time": "2024-12-09T13:39:19.339505Z",
     "start_time": "2024-12-09T13:39:19.222975Z"
    }
   },
   "cell_type": "code",
   "source": [
    "train_labels = train_labels.astype(int)\n",
    "test_labels = test_labels.astype(int)\n",
    "train_labels = np.eye(10)[train_labels]\n",
    "test_labels = np.eye(10)[test_labels]\n",
    "print(train_images.shape, train_labels.shape)\n",
    "# 将图像数据转换为浮点数，并归一化到0-1之间\n",
    "train_images = train_images.astype(np.float32) / 255.0\n",
    "test_images = test_images.astype(np.float32) / 255.0"
   ],
   "id": "67d9dfb15685be0",
   "outputs": [
    {
     "name": "stdout",
     "output_type": "stream",
     "text": [
      "(60000, 28, 28) (60000, 10)\n"
     ]
    }
   ],
   "execution_count": 96
  },
  {
   "metadata": {
    "ExecuteTime": {
     "end_time": "2024-12-09T13:39:19.350467Z",
     "start_time": "2024-12-09T13:39:19.347904Z"
    }
   },
   "cell_type": "code",
   "source": [
    "# 将图像数据展平为一维数组\n",
    "train_images = train_images.reshape(-1, 28*28)\n",
    "test_images = test_images.reshape(-1, 28*28)"
   ],
   "id": "3c85797e84e9ea82",
   "outputs": [],
   "execution_count": 97
  },
  {
   "metadata": {
    "ExecuteTime": {
     "end_time": "2024-12-09T13:39:19.363021Z",
     "start_time": "2024-12-09T13:39:19.357083Z"
    }
   },
   "cell_type": "code",
   "source": [
    "class NeuralNetwork:\n",
    "    def __init__(self, input_size, hidden_size, output_size,learning_rate = 0.01):\n",
    "        self.weights1 = np.random.randn(input_size, hidden_size) * np.sqrt(1 / input_size)\n",
    "        self.weights2 = np.random.randn(hidden_size, output_size) * np.sqrt(1 / hidden_size)\n",
    "        self.bias1 = np.zeros((1, hidden_size))\n",
    "        self.bias2 = np.zeros((1, output_size))\n",
    "        self.learning_rate=learning_rate\n",
    "\n",
    "    def sigmoid(self, x):\n",
    "        return 1 / (1 + np.exp(-x))\n",
    "\n",
    "    def sigmoid_derivative(self, x):\n",
    "        return x * (1 - x)\n",
    "\n",
    "    def forward(self, x):\n",
    "        self.output1 = self.sigmoid(np.dot(x, self.weights1) + self.bias1)\n",
    "        self.output2 = self.sigmoid(np.dot(self.output1, self.weights2) + self.bias2)\n",
    "        return self.output2\n",
    "    \n",
    "    def backward(self, x, true, output):\n",
    "        error = output-true\n",
    "        output2_derivative = error * self.sigmoid_derivative(output)\n",
    "        error1 = output2_derivative.dot(self.weights2.T)\n",
    "        output1_derivative = error1 * self.sigmoid_derivative(self.output1)    \n",
    "        self.weights2 -= self.learning_rate*self.output1.T.dot(output2_derivative)\n",
    "        self.weights1 -= self.learning_rate*x.reshape(784, 1).dot(output1_derivative)\n",
    "        self.bias2 -=self.learning_rate* np.sum(output2_derivative, axis=0, keepdims=True)\n",
    "        self.bias1 -=self.learning_rate* np.sum(output1_derivative, axis=0, keepdims=True)\n",
    "    \n",
    "    def cross_entropy_loss(self,output, true):\n",
    "        delta = 1e-7\n",
    "        return -np.sum(true * np.log(output), axis=1)"
   ],
   "id": "71ac489d32abd4bf",
   "outputs": [],
   "execution_count": 98
  },
  {
   "metadata": {
    "ExecuteTime": {
     "end_time": "2024-12-09T13:39:19.374015Z",
     "start_time": "2024-12-09T13:39:19.371020Z"
    }
   },
   "cell_type": "code",
   "source": [
    "def evaluate_nn(nn, test_images, test_labels):\n",
    "    correct = 0\n",
    "    for image, label in zip(test_images, test_labels):\n",
    "        output = nn.forward(image)\n",
    "        predicted = np.argmax(output)\n",
    "        actual = np.argmax(label)\n",
    "        if predicted == actual:\n",
    "            correct += 1\n",
    "    accuracy = correct / len(test_labels)\n",
    "    print(f\"Accuracy: {accuracy * 100}%\")"
   ],
   "id": "e23926a240b4f14a",
   "outputs": [],
   "execution_count": 99
  },
  {
   "metadata": {
    "ExecuteTime": {
     "end_time": "2024-12-09T13:39:19.384139Z",
     "start_time": "2024-12-09T13:39:19.381013Z"
    }
   },
   "cell_type": "code",
   "source": [
    "def train_nn(nn, train_images, train_labels, epochs):\n",
    "    for epoch in range(epochs):\n",
    "        for image, label in zip(train_images, train_labels):\n",
    "            output = nn.forward(image)\n",
    "            nn.backward(image, label, output)\n",
    "        print(f\"Epoch {epoch} complete\")\n",
    "        evaluate_nn(nn, test_images[epoch*10:(epoch+1)*10], test_labels[epoch*10:(epoch+1)*10])"
   ],
   "id": "6faaed7db1ef69fc",
   "outputs": [],
   "execution_count": 100
  },
  {
   "metadata": {
    "ExecuteTime": {
     "end_time": "2024-12-09T13:46:51.257932Z",
     "start_time": "2024-12-09T13:39:19.392070Z"
    }
   },
   "cell_type": "code",
   "source": [
    "# 创建神经网络实例\n",
    "input_size = 28 * 28\n",
    "hidden_size = 64\n",
    "output_size = 10\n",
    "learning_rate=0.01\n",
    "nn = NeuralNetwork(input_size, hidden_size, output_size, learning_rate)\n",
    "\n",
    "# 训练神经网络\n",
    "train_nn(nn, train_images, train_labels, epochs=100)\n",
    "\n"
   ],
   "id": "c4232dbe96310ed6",
   "outputs": [
    {
     "name": "stdout",
     "output_type": "stream",
     "text": [
      "Epoch 0 complete\n",
      "Accuracy: 90.0%\n",
      "Epoch 1 complete\n",
      "Accuracy: 100.0%\n",
      "Epoch 2 complete\n",
      "Accuracy: 100.0%\n",
      "Epoch 3 complete\n",
      "Accuracy: 80.0%\n",
      "Epoch 4 complete\n",
      "Accuracy: 100.0%\n",
      "Epoch 5 complete\n",
      "Accuracy: 100.0%\n",
      "Epoch 6 complete\n",
      "Accuracy: 100.0%\n",
      "Epoch 7 complete\n",
      "Accuracy: 100.0%\n",
      "Epoch 8 complete\n",
      "Accuracy: 100.0%\n",
      "Epoch 9 complete\n",
      "Accuracy: 100.0%\n",
      "Epoch 10 complete\n",
      "Accuracy: 100.0%\n",
      "Epoch 11 complete\n",
      "Accuracy: 100.0%\n",
      "Epoch 12 complete\n",
      "Accuracy: 90.0%\n",
      "Epoch 13 complete\n",
      "Accuracy: 100.0%\n",
      "Epoch 14 complete\n",
      "Accuracy: 90.0%\n",
      "Epoch 15 complete\n",
      "Accuracy: 100.0%\n",
      "Epoch 16 complete\n",
      "Accuracy: 100.0%\n",
      "Epoch 17 complete\n",
      "Accuracy: 100.0%\n",
      "Epoch 18 complete\n",
      "Accuracy: 100.0%\n",
      "Epoch 19 complete\n",
      "Accuracy: 100.0%\n",
      "Epoch 20 complete\n",
      "Accuracy: 100.0%\n",
      "Epoch 21 complete\n",
      "Accuracy: 90.0%\n",
      "Epoch 22 complete\n",
      "Accuracy: 100.0%\n",
      "Epoch 23 complete\n",
      "Accuracy: 100.0%\n",
      "Epoch 24 complete\n",
      "Accuracy: 80.0%\n",
      "Epoch 25 complete\n",
      "Accuracy: 90.0%\n",
      "Epoch 26 complete\n",
      "Accuracy: 100.0%\n",
      "Epoch 27 complete\n",
      "Accuracy: 100.0%\n",
      "Epoch 28 complete\n",
      "Accuracy: 100.0%\n",
      "Epoch 29 complete\n",
      "Accuracy: 90.0%\n",
      "Epoch 30 complete\n",
      "Accuracy: 100.0%\n",
      "Epoch 31 complete\n",
      "Accuracy: 100.0%\n",
      "Epoch 32 complete\n",
      "Accuracy: 90.0%\n",
      "Epoch 33 complete\n",
      "Accuracy: 100.0%\n",
      "Epoch 34 complete\n",
      "Accuracy: 90.0%\n",
      "Epoch 35 complete\n",
      "Accuracy: 90.0%\n",
      "Epoch 36 complete\n",
      "Accuracy: 100.0%\n",
      "Epoch 37 complete\n",
      "Accuracy: 100.0%\n",
      "Epoch 38 complete\n",
      "Accuracy: 100.0%\n",
      "Epoch 39 complete\n",
      "Accuracy: 100.0%\n",
      "Epoch 40 complete\n",
      "Accuracy: 100.0%\n",
      "Epoch 41 complete\n",
      "Accuracy: 100.0%\n",
      "Epoch 42 complete\n",
      "Accuracy: 100.0%\n",
      "Epoch 43 complete\n",
      "Accuracy: 100.0%\n",
      "Epoch 44 complete\n",
      "Accuracy: 80.0%\n",
      "Epoch 45 complete\n",
      "Accuracy: 100.0%\n",
      "Epoch 46 complete\n",
      "Accuracy: 100.0%\n",
      "Epoch 47 complete\n",
      "Accuracy: 100.0%\n",
      "Epoch 48 complete\n",
      "Accuracy: 100.0%\n",
      "Epoch 49 complete\n",
      "Accuracy: 90.0%\n",
      "Epoch 50 complete\n",
      "Accuracy: 100.0%\n",
      "Epoch 51 complete\n",
      "Accuracy: 100.0%\n",
      "Epoch 52 complete\n",
      "Accuracy: 100.0%\n",
      "Epoch 53 complete\n",
      "Accuracy: 100.0%\n",
      "Epoch 54 complete\n",
      "Accuracy: 100.0%\n",
      "Epoch 55 complete\n",
      "Accuracy: 90.0%\n",
      "Epoch 56 complete\n",
      "Accuracy: 100.0%\n",
      "Epoch 57 complete\n",
      "Accuracy: 90.0%\n",
      "Epoch 58 complete\n",
      "Accuracy: 90.0%\n",
      "Epoch 59 complete\n",
      "Accuracy: 100.0%\n",
      "Epoch 60 complete\n",
      "Accuracy: 100.0%\n",
      "Epoch 61 complete\n",
      "Accuracy: 100.0%\n",
      "Epoch 62 complete\n",
      "Accuracy: 100.0%\n",
      "Epoch 63 complete\n",
      "Accuracy: 100.0%\n",
      "Epoch 64 complete\n",
      "Accuracy: 100.0%\n",
      "Epoch 65 complete\n",
      "Accuracy: 90.0%\n",
      "Epoch 66 complete\n",
      "Accuracy: 100.0%\n",
      "Epoch 67 complete\n",
      "Accuracy: 100.0%\n",
      "Epoch 68 complete\n",
      "Accuracy: 90.0%\n",
      "Epoch 69 complete\n",
      "Accuracy: 90.0%\n",
      "Epoch 70 complete\n",
      "Accuracy: 100.0%\n",
      "Epoch 71 complete\n",
      "Accuracy: 90.0%\n",
      "Epoch 72 complete\n",
      "Accuracy: 90.0%\n",
      "Epoch 73 complete\n",
      "Accuracy: 100.0%\n",
      "Epoch 74 complete\n",
      "Accuracy: 90.0%\n",
      "Epoch 75 complete\n",
      "Accuracy: 100.0%\n",
      "Epoch 76 complete\n",
      "Accuracy: 100.0%\n",
      "Epoch 77 complete\n",
      "Accuracy: 100.0%\n",
      "Epoch 78 complete\n",
      "Accuracy: 100.0%\n",
      "Epoch 79 complete\n",
      "Accuracy: 100.0%\n",
      "Epoch 80 complete\n",
      "Accuracy: 100.0%\n",
      "Epoch 81 complete\n",
      "Accuracy: 90.0%\n",
      "Epoch 82 complete\n",
      "Accuracy: 100.0%\n",
      "Epoch 83 complete\n",
      "Accuracy: 100.0%\n",
      "Epoch 84 complete\n",
      "Accuracy: 100.0%\n",
      "Epoch 85 complete\n",
      "Accuracy: 100.0%\n",
      "Epoch 86 complete\n",
      "Accuracy: 100.0%\n",
      "Epoch 87 complete\n",
      "Accuracy: 100.0%\n",
      "Epoch 88 complete\n",
      "Accuracy: 90.0%\n",
      "Epoch 89 complete\n",
      "Accuracy: 100.0%\n",
      "Epoch 90 complete\n",
      "Accuracy: 100.0%\n",
      "Epoch 91 complete\n",
      "Accuracy: 100.0%\n",
      "Epoch 92 complete\n",
      "Accuracy: 100.0%\n",
      "Epoch 93 complete\n",
      "Accuracy: 100.0%\n",
      "Epoch 94 complete\n",
      "Accuracy: 90.0%\n",
      "Epoch 95 complete\n",
      "Accuracy: 90.0%\n",
      "Epoch 96 complete\n",
      "Accuracy: 90.0%\n",
      "Epoch 97 complete\n",
      "Accuracy: 100.0%\n",
      "Epoch 98 complete\n",
      "Accuracy: 100.0%\n",
      "Epoch 99 complete\n",
      "Accuracy: 100.0%\n"
     ]
    }
   ],
   "execution_count": 101
  },
  {
   "metadata": {
    "ExecuteTime": {
     "end_time": "2024-12-09T13:47:01.004098Z",
     "start_time": "2024-12-09T13:47:00.860687Z"
    }
   },
   "cell_type": "code",
   "source": [
    "# 评估神经网络\n",
    "evaluate_nn(nn, test_images, test_labels)\n",
    "\n"
   ],
   "id": "658f25dd412b574c",
   "outputs": [
    {
     "name": "stdout",
     "output_type": "stream",
     "text": [
      "Accuracy: 97.37%\n"
     ]
    }
   ],
   "execution_count": 104
  },
  {
   "metadata": {
    "ExecuteTime": {
     "end_time": "2024-12-09T13:46:51.438678Z",
     "start_time": "2024-12-09T13:46:51.436108Z"
    }
   },
   "cell_type": "code",
   "source": [
    "import json\n",
    "# 保存实例到文件\n",
    "# with open('nn.json', 'w') as f:\n",
    "#     f.write(nn.to_json())\n",
    "\n",
    "# 从文件加载实例\n",
    "# with open('nn.json', 'r') as f:\n",
    "#     data = json.load(f)\n",
    "#     loaded_instance = NeuralNetwork(**data)\n",
    "#     print(loaded_instance)"
   ],
   "id": "32cf80abc5ece7ae",
   "outputs": [],
   "execution_count": 103
  }
 ],
 "metadata": {
  "kernelspec": {
   "display_name": "Python 3",
   "language": "python",
   "name": "python3"
  },
  "language_info": {
   "codemirror_mode": {
    "name": "ipython",
    "version": 2
   },
   "file_extension": ".py",
   "mimetype": "text/x-python",
   "name": "python",
   "nbconvert_exporter": "python",
   "pygments_lexer": "ipython2",
   "version": "2.7.6"
  }
 },
 "nbformat": 4,
 "nbformat_minor": 5
}
