{
 "cells": [
  {
   "cell_type": "code",
   "id": "initial_id",
   "metadata": {
    "collapsed": true,
    "ExecuteTime": {
     "end_time": "2024-12-09T08:44:14.858190Z",
     "start_time": "2024-12-09T08:44:14.855094Z"
    }
   },
   "source": "import numpy as np\n",
   "outputs": [],
   "execution_count": 70
  },
  {
   "metadata": {
    "ExecuteTime": {
     "end_time": "2024-12-09T08:44:15.029840Z",
     "start_time": "2024-12-09T08:44:14.863201Z"
    }
   },
   "cell_type": "code",
   "source": [
    "# 加载数据集\n",
    "mnist=np.load('mnist/mnist.npz')\n",
    "train_images, train_labels = mnist['x_train'], mnist['y_train']\n",
    "test_images, test_labels = mnist['x_test'], mnist['y_test']\n",
    "print(train_labels.shape, test_labels)\n"
   ],
   "id": "3240ff354b7cc494",
   "outputs": [
    {
     "name": "stdout",
     "output_type": "stream",
     "text": [
      "(60000,) [7 2 1 ... 4 5 6]\n"
     ]
    }
   ],
   "execution_count": 71
  },
  {
   "metadata": {
    "ExecuteTime": {
     "end_time": "2024-12-09T08:44:15.138735Z",
     "start_time": "2024-12-09T08:44:15.037791Z"
    }
   },
   "cell_type": "code",
   "source": [
    "train_labels = train_labels.astype(int)\n",
    "test_labels = test_labels.astype(int)\n",
    "train_labels = np.eye(10)[train_labels]\n",
    "test_labels = np.eye(10)[test_labels]\n",
    "print(train_labels[0], test_labels.shape)\n",
    "# 将图像数据转换为浮点数，并归一化到0-1之间\n",
    "train_images = train_images.astype(np.float32) / 255.0\n",
    "test_images = test_images.astype(np.float32) / 255.0"
   ],
   "id": "67d9dfb15685be0",
   "outputs": [
    {
     "name": "stdout",
     "output_type": "stream",
     "text": [
      "[0. 0. 0. 0. 0. 1. 0. 0. 0. 0.] (10000, 10)\n"
     ]
    }
   ],
   "execution_count": 72
  },
  {
   "metadata": {
    "ExecuteTime": {
     "end_time": "2024-12-09T08:44:15.155426Z",
     "start_time": "2024-12-09T08:44:15.152976Z"
    }
   },
   "cell_type": "code",
   "source": [
    "# 将图像数据展平为一维数组\n",
    "train_images = train_images.reshape(-1, 28*28)\n",
    "test_images = test_images.reshape(-1, 28*28)"
   ],
   "id": "3c85797e84e9ea82",
   "outputs": [],
   "execution_count": 73
  },
  {
   "metadata": {
    "ExecuteTime": {
     "end_time": "2024-12-09T08:44:15.165423Z",
     "start_time": "2024-12-09T08:44:15.159432Z"
    }
   },
   "cell_type": "code",
   "source": [
    "class NeuralNetwork:\n",
    "    def __init__(self, input_size, hidden_size, output_size,learning_rate = 0.01):\n",
    "        self.weights1 = np.random.randn(input_size, hidden_size) * np.sqrt(1 / input_size)\n",
    "        self.weights2 = np.random.randn(hidden_size, output_size) * np.sqrt(1 / hidden_size)\n",
    "        self.bias1 = np.zeros((1, hidden_size))\n",
    "        self.bias2 = np.zeros((1, output_size))\n",
    "        self.learning_rate=learning_rate\n",
    "\n",
    "    def sigmoid(self, x):\n",
    "        return 1 / (1 + np.exp(-x))\n",
    "\n",
    "    def sigmoid_derivative(self, x):\n",
    "        return x * (1 - x)\n",
    "\n",
    "    def forward(self, x):\n",
    "        self.output1 = self.sigmoid(np.dot(x, self.weights1) + self.bias1)\n",
    "        self.output2 = self.sigmoid(np.dot(self.output1, self.weights2) + self.bias2)\n",
    "        return self.output2\n",
    "\n",
    "    def backward(self, x, y, output):\n",
    "        error = y - output\n",
    "        output2_derivative = error * self.sigmoid_derivative(output)\n",
    "        error1 = output2_derivative.dot(self.weights2.T)\n",
    "        output1_derivative = error1 * self.sigmoid_derivative(self.output1)\n",
    "        # print('output2_derivative:',output2_derivative.shape)\n",
    "        # print('error1:',error1.shape)\n",
    "        # print('output1_derivative:',output1_derivative.shape)\n",
    "        \n",
    "        self.weights2 += self.learning_rate*self.output1.T.dot(output2_derivative)\n",
    "        self.weights1 += self.learning_rate*x.T.dot(output1_derivative)\n",
    "        self.bias2 +=self.learning_rate* np.sum(output2_derivative, axis=0, keepdims=True)\n",
    "        self.bias1 +=self.learning_rate* np.sum(output1_derivative, axis=0, keepdims=True)"
   ],
   "id": "71ac489d32abd4bf",
   "outputs": [],
   "execution_count": 74
  },
  {
   "metadata": {
    "ExecuteTime": {
     "end_time": "2024-12-09T08:44:15.176200Z",
     "start_time": "2024-12-09T08:44:15.173166Z"
    }
   },
   "cell_type": "code",
   "source": [
    "def train(self, x, y, epochs):\n",
    "    for epoch in range(epochs):\n",
    "        output = self.forward(x)\n",
    "        self.backward(x, y, output)\n",
    "        if epoch % 100 == 0:  # 每隔100轮打印损失\n",
    "            loss = np.mean(np.square(y - output))\n",
    "            print(f\"Epoch {epoch}, Loss: {loss}\")\n"
   ],
   "id": "e23926a240b4f14a",
   "outputs": [],
   "execution_count": 75
  },
  {
   "metadata": {
    "ExecuteTime": {
     "end_time": "2024-12-09T08:44:15.186368Z",
     "start_time": "2024-12-09T08:44:15.183415Z"
    }
   },
   "cell_type": "code",
   "source": [
    "def evaluate_nn(nn, test_images, test_labels):\n",
    "    correct = 0\n",
    "    for image, label in zip(test_images, test_labels):\n",
    "        output = nn.forward(image)\n",
    "        predicted = np.argmax(output)\n",
    "        actual = np.argmax(label)\n",
    "        if predicted == actual:\n",
    "            correct += 1\n",
    "    accuracy = correct / len(test_labels)\n",
    "    print(f\"Accuracy: {accuracy * 100}%\")"
   ],
   "id": "d310511daea58660",
   "outputs": [],
   "execution_count": 76
  },
  {
   "metadata": {
    "ExecuteTime": {
     "end_time": "2024-12-09T08:45:04.998637Z",
     "start_time": "2024-12-09T08:44:15.192389Z"
    }
   },
   "cell_type": "code",
   "source": [
    "# 创建神经网络实例\n",
    "input_size = 28 * 28\n",
    "hidden_size = 64\n",
    "output_size = 10\n",
    "nn = NeuralNetwork(input_size, hidden_size, output_size)\n",
    "\n",
    "# 训练神经网络\n",
    "train(nn, train_images, train_labels, epochs=100)\n",
    "\n",
    "# 评估神经网络\n",
    "# evaluate_nn(nn, test_images, test_labels)"
   ],
   "id": "c4232dbe96310ed6",
   "outputs": [
    {
     "name": "stdout",
     "output_type": "stream",
     "text": [
      "Epoch 0, Loss: 0.34498612065931783\n"
     ]
    },
    {
     "name": "stderr",
     "output_type": "stream",
     "text": [
      "C:\\Users\\Administrator\\AppData\\Local\\Temp\\ipykernel_37020\\3289305748.py:10: RuntimeWarning: overflow encountered in exp\n",
      "  return 1 / (1 + np.exp(-x))\n"
     ]
    }
   ],
   "execution_count": 77
  }
 ],
 "metadata": {
  "kernelspec": {
   "display_name": "Python 3",
   "language": "python",
   "name": "python3"
  },
  "language_info": {
   "codemirror_mode": {
    "name": "ipython",
    "version": 2
   },
   "file_extension": ".py",
   "mimetype": "text/x-python",
   "name": "python",
   "nbconvert_exporter": "python",
   "pygments_lexer": "ipython2",
   "version": "2.7.6"
  }
 },
 "nbformat": 4,
 "nbformat_minor": 5
}
